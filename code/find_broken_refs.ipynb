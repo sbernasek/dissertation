{
 "cells": [
  {
   "cell_type": "code",
   "execution_count": 1,
   "metadata": {},
   "outputs": [],
   "source": [
    "\n",
    "import re\n",
    "\n",
    "def fmt_reference(ref):\n",
    "    components = [re.sub(r'[^\\w\\s]','',x.strip()) for x in ref.split()]    \n",
    "    author = components[0]\n",
    "    \n",
    "    year = None\n",
    "    for x in components[::-1]:\n",
    "        matches = re.findall('([1-3][0-9]{3})', x)\n",
    "        if len(matches) > 0:\n",
    "            year = matches[0]\n",
    "            break\n",
    "    assert type(year) == str, 'Year not found.'\n",
    "    \n",
    "    return '{:s}{:s}'.format(author, year)\n",
    "    "
   ]
  },
  {
   "cell_type": "code",
   "execution_count": 55,
   "metadata": {},
   "outputs": [],
   "source": [
    "src = '../text/clones.tex'\n",
    "\n",
    "\"\"\" READ TEXT FILE \"\"\"\n",
    "from copy import deepcopy\n",
    "def readfile(src):\n",
    "    with open(src, 'r') as file:\n",
    "        txt = deepcopy(file.read())\n",
    "    return txt\n",
    "\n",
    "def parsefile(src):\n",
    "    txt = readfile(src)\n",
    "    refs = find_references(txt)\n",
    "    labels = find_labeled(txt)\n",
    "    return labels, refs"
   ]
  },
  {
   "cell_type": "code",
   "execution_count": 56,
   "metadata": {},
   "outputs": [],
   "source": [
    "import re\n",
    "\n",
    "def find_references(txt):\n",
    "    matches = re.findall(r'\\\\ref{.*?}', txt)\n",
    "    return set([m.replace('\\\\ref{','').replace('}','') for m in matches])\n",
    "    \n",
    "def find_labeled(txt):\n",
    "    matches = re.findall(r'\\\\label{.*?}', txt)\n",
    "    return set([m.replace('\\\\label{','').replace('}','') for m in matches])"
   ]
  },
  {
   "cell_type": "code",
   "execution_count": null,
   "metadata": {},
   "outputs": [],
   "source": []
  },
  {
   "cell_type": "code",
   "execution_count": 63,
   "metadata": {},
   "outputs": [],
   "source": [
    "files = [\n",
    "    '../text/clones.tex',\n",
    "    '../text/ratio.tex',\n",
    "    '../text/metabolism.tex',\n",
    "    \n",
    "    '../appendix/main.tex',\n",
    "    '../appendix/reproducibility.tex',\n",
    "    '../appendix/software.tex',\n",
    "    \n",
    "    '../appendix/methods/clones.tex',\n",
    "    '../appendix/methods/ratio.tex',\n",
    "    '../appendix/methods/metabolism.tex',\n",
    "    \n",
    "    '../appendix/figures/clones.tex',\n",
    "    '../appendix/figures/ratio.tex',\n",
    "    '../appendix/figures/metabolism.tex'\n",
    "    \n",
    "]"
   ]
  },
  {
   "cell_type": "code",
   "execution_count": 70,
   "metadata": {},
   "outputs": [],
   "source": [
    "all_labels, all_refs = set(), set()\n",
    "for src in files:\n",
    "    labels, refs = parsefile(src)\n",
    "    all_labels = all_labels.union(labels)\n",
    "    all_refs = all_refs.union(refs)"
   ]
  },
  {
   "cell_type": "code",
   "execution_count": 74,
   "metadata": {},
   "outputs": [],
   "source": [
    "missing = []\n",
    "for ref in all_refs:\n",
    "    if ref not in all_labels:\n",
    "        missing.append(ref)"
   ]
  },
  {
   "cell_type": "code",
   "execution_count": 76,
   "metadata": {},
   "outputs": [
    {
     "name": "stdout",
     "output_type": "stream",
     "text": [
      "../appendix/methods/ratio.tex ratio:genetics\n",
      "../appendix/methods/metabolism.tex appendix:supp:metabolism:eq:deviations\n",
      "../appendix/methods/metabolism.tex appendix:supp:ratio:alignment\n"
     ]
    }
   ],
   "source": [
    "for src in files:\n",
    "    labels, refs = parsefile(src)\n",
    "    for fail in missing:\n",
    "        if fail in refs:\n",
    "            print(src, fail)"
   ]
  },
  {
   "cell_type": "code",
   "execution_count": null,
   "metadata": {},
   "outputs": [],
   "source": []
  },
  {
   "cell_type": "code",
   "execution_count": null,
   "metadata": {},
   "outputs": [],
   "source": []
  }
 ],
 "metadata": {
  "kernelspec": {
   "display_name": "ratio",
   "language": "python",
   "name": "ratio"
  },
  "language_info": {
   "codemirror_mode": {
    "name": "ipython",
    "version": 3
   },
   "file_extension": ".py",
   "mimetype": "text/x-python",
   "name": "python",
   "nbconvert_exporter": "python",
   "pygments_lexer": "ipython3",
   "version": "3.6.4"
  }
 },
 "nbformat": 4,
 "nbformat_minor": 2
}
