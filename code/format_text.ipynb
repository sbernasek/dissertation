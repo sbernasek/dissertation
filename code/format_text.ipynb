{
 "cells": [
  {
   "cell_type": "code",
   "execution_count": 1,
   "metadata": {},
   "outputs": [],
   "source": [
    "from copy import deepcopy\n",
    "import re\n",
    "\n",
    "def fmt_reference(ref):\n",
    "    components = [re.sub(r'[^\\w\\s]','',x.strip()) for x in ref.split()]    \n",
    "    author = components[0]\n",
    "    \n",
    "    year = None\n",
    "    for x in components[::-1]:\n",
    "        matches = re.findall('([1-3][0-9]{3})', x)\n",
    "        if len(matches) > 0:\n",
    "            year = matches[0]\n",
    "            break\n",
    "    assert type(year) == str, 'Year not found.'\n",
    "    \n",
    "    return '{:s}{:s}'.format(author, year)\n",
    "    "
   ]
  },
  {
   "cell_type": "code",
   "execution_count": 2,
   "metadata": {},
   "outputs": [],
   "source": [
    "src = 'metabolism/raw_supp.txt'\n",
    "dst = 'metabolism/converted_supp.txt'\n",
    "\n",
    "\"\"\" READ TEXT FILE \"\"\"\n",
    "with open(src, 'r') as file:\n",
    "    txt = deepcopy(file.read())"
   ]
  },
  {
   "cell_type": "code",
   "execution_count": 7,
   "metadata": {},
   "outputs": [],
   "source": [
    "\"\"\" FORMAT CITATIONS. \"\"\"\n",
    "\n",
    "parenthesis_pattern = '\\(.*?\\)'\n",
    "year_pattern = '.([1-3][0-9]{3})'\n",
    "is_ref = lambda x: len(re.findall(year_pattern, x)) > 0\n",
    "\n",
    "matches = re.findall(parenthesis_pattern, txt)\n",
    "\n",
    "for match in [m for m in matches if is_ref(m)]:\n",
    "    if 'Seborg' in match:\n",
    "        continue\n",
    "    \n",
    "    references = match.strip('()').split(';')\n",
    "    cites = ','.join([fmt_reference(r) for r in references])\n",
    "    citation = '\\cite{{{:s}}}'.format(cites)\n",
    "    txt = txt.replace(match, citation)"
   ]
  },
  {
   "cell_type": "code",
   "execution_count": 4,
   "metadata": {},
   "outputs": [],
   "source": [
    "\"\"\" FORMAT FIGURE REFERENCES. \"\"\"\n",
    "\n",
    "# define figure IDs\n",
    "num_main = 7\n",
    "num_supplementary = 4\n",
    "fig_names = ['{:d}'.format(i+1) for i in range(num_main)] + ['S{:d}'.format(i+1) for i in range(num_supplementary)]\n",
    "\n",
    "# replace each reference\n",
    "fig_patterns = ('Fig. {:s}', 'Figs. {:s}', 'Figure {:s}')\n",
    "for fig_name in fig_names:\n",
    "    fig_reference = '\\\\ref{{fig:metabolism:fig{:s}}}'.format(fig_name)\n",
    "    for fig_pattern in fig_patterns:\n",
    "        old_fmt = fig_pattern.format(fig_name)\n",
    "        new_fmt = fig_pattern.format(fig_reference)\n",
    "        txt = txt.replace(old_fmt, new_fmt)"
   ]
  },
  {
   "cell_type": "code",
   "execution_count": 8,
   "metadata": {},
   "outputs": [],
   "source": [
    "\"\"\" WRITE TEXT FILE \"\"\"\n",
    "with open(dst, 'w') as file:\n",
    "    file.write(txt)"
   ]
  },
  {
   "cell_type": "code",
   "execution_count": 14,
   "metadata": {},
   "outputs": [],
   "source": [
    "\"\"\" RENAME FIGURES. \"\"\"\n",
    "from glob import glob\n",
    "from os.path import join, splitext\n",
    "from os import rename\n",
    "\n",
    "p = 'metabolism/figs/rendered/'\n",
    "for fpath in glob(join(p, '*.png')):\n",
    "    fname, fext = splitext(fpath)\n",
    "    fname = fname.rstrip('-01')\n",
    "    #rename(fpath, fname+fext)"
   ]
  }
 ],
 "metadata": {
  "kernelspec": {
   "display_name": "ratio",
   "language": "python",
   "name": "ratio"
  },
  "language_info": {
   "codemirror_mode": {
    "name": "ipython",
    "version": 3
   },
   "file_extension": ".py",
   "mimetype": "text/x-python",
   "name": "python",
   "nbconvert_exporter": "python",
   "pygments_lexer": "ipython3",
   "version": "3.6.4"
  }
 },
 "nbformat": 4,
 "nbformat_minor": 2
}
