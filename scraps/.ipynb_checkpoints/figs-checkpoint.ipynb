{
 "cells": [
  {
   "cell_type": "code",
   "execution_count": 1,
   "metadata": {},
   "outputs": [
    {
     "name": "stdout",
     "output_type": "stream",
     "text": [
      "figs.ipynb              manuscript_100918.docx  ratio_figs.tex\r\n",
      "figures.docx            ratio.tex\r\n"
     ]
    }
   ],
   "source": []
  },
  {
   "cell_type": "code",
   "execution_count": null,
   "metadata": {
    "collapsed": true
   },
   "outputs": [],
   "source": []
  },
  {
   "cell_type": "code",
   "execution_count": 37,
   "metadata": {},
   "outputs": [
    {
     "name": "stdout",
     "output_type": "stream",
     "text": [
      "\n",
      "\n",
      "\\begin{figure}[h]\n",
      "\\centering\n",
      "\\includegraphics[scale=1.0]{./figure_1}\n",
      "\\caption[TITLE]{\\textbf{TITLE} CONTENT}\n",
      "\\label{fig:ch2:fig1}\n",
      "\\end{figure}\n",
      "\n",
      "\n",
      "\\begin{figure}[h]\n",
      "\\centering\n",
      "\\includegraphics[scale=1.0]{./figure_2}\n",
      "\\caption[TITLE]{\\textbf{TITLE} CONTENT}\n",
      "\\label{fig:ch2:fig2}\n",
      "\\end{figure}\n",
      "\n",
      "\n",
      "\\begin{figure}[h]\n",
      "\\centering\n",
      "\\includegraphics[scale=1.0]{./figure_3}\n",
      "\\caption[TITLE]{\\textbf{TITLE} CONTENT}\n",
      "\\label{fig:ch2:fig3}\n",
      "\\end{figure}\n",
      "\n",
      "\n",
      "\\begin{figure}[h]\n",
      "\\centering\n",
      "\\includegraphics[scale=1.0]{./figure_4}\n",
      "\\caption[TITLE]{\\textbf{TITLE} CONTENT}\n",
      "\\label{fig:ch2:fig4}\n",
      "\\end{figure}\n",
      "\n",
      "\n",
      "\\begin{figure}[h]\n",
      "\\centering\n",
      "\\includegraphics[scale=1.0]{./figure_5}\n",
      "\\caption[TITLE]{\\textbf{TITLE} CONTENT}\n",
      "\\label{fig:ch2:fig5}\n",
      "\\end{figure}\n",
      "\n",
      "\n",
      "\\begin{figure}[h]\n",
      "\\centering\n",
      "\\includegraphics[scale=1.0]{./figure_6}\n",
      "\\caption[TITLE]{\\textbf{TITLE} CONTENT}\n",
      "\\label{fig:ch2:fig6}\n",
      "\\end{figure}\n",
      "\n",
      "\n",
      "\\begin{figure}[h]\n",
      "\\centering\n",
      "\\includegraphics[scale=1.0]{./figure_7}\n",
      "\\caption[TITLE]{\\textbf{TITLE} CONTENT}\n",
      "\\label{fig:ch2:fig7}\n",
      "\\end{figure}\n"
     ]
    }
   ],
   "source": [
    "for i in range(7):\n",
    "\n",
    "    x = '\\\\begin{figure}[h]\\n'\n",
    "    x += '\\centering\\n'\n",
    "    x += '\\includegraphics[scale=1.0]{{./figure_{:d}}}\\n'.format(i+1) \n",
    "    x += r'\\caption[TITLE]{\\textbf{TITLE} CONTENT}'\n",
    "    x += '\\n\\label{{fig:ch2:fig{:d}}}\\n'.format(i+1)\n",
    "    x += '\\end{figure}'\n",
    "    \n",
    "    print('\\n')\n",
    "    \n",
    "    print(x)"
   ]
  },
  {
   "cell_type": "code",
   "execution_count": 39,
   "metadata": {},
   "outputs": [
    {
     "name": "stdout",
     "output_type": "stream",
     "text": [
      "\n",
      "\n",
      "\\begin{figure}[h]\n",
      "\\centering\n",
      "\\includegraphics[scale=1.0]{./figure_S1}\n",
      "\\caption[TITLE]{\\textbf{TITLE} CONTENT}\n",
      "\\label{fig:ch2:figS1}\n",
      "\\end{figure}\n",
      "\n",
      "\n",
      "\\begin{figure}[h]\n",
      "\\centering\n",
      "\\includegraphics[scale=1.0]{./figure_S2}\n",
      "\\caption[TITLE]{\\textbf{TITLE} CONTENT}\n",
      "\\label{fig:ch2:figS2}\n",
      "\\end{figure}\n",
      "\n",
      "\n",
      "\\begin{figure}[h]\n",
      "\\centering\n",
      "\\includegraphics[scale=1.0]{./figure_S3}\n",
      "\\caption[TITLE]{\\textbf{TITLE} CONTENT}\n",
      "\\label{fig:ch2:figS3}\n",
      "\\end{figure}\n",
      "\n",
      "\n",
      "\\begin{figure}[h]\n",
      "\\centering\n",
      "\\includegraphics[scale=1.0]{./figure_S4}\n",
      "\\caption[TITLE]{\\textbf{TITLE} CONTENT}\n",
      "\\label{fig:ch2:figS4}\n",
      "\\end{figure}\n",
      "\n",
      "\n",
      "\\begin{figure}[h]\n",
      "\\centering\n",
      "\\includegraphics[scale=1.0]{./figure_S5}\n",
      "\\caption[TITLE]{\\textbf{TITLE} CONTENT}\n",
      "\\label{fig:ch2:figS5}\n",
      "\\end{figure}\n",
      "\n",
      "\n",
      "\\begin{figure}[h]\n",
      "\\centering\n",
      "\\includegraphics[scale=1.0]{./figure_S6}\n",
      "\\caption[TITLE]{\\textbf{TITLE} CONTENT}\n",
      "\\label{fig:ch2:figS6}\n",
      "\\end{figure}\n",
      "\n",
      "\n",
      "\\begin{figure}[h]\n",
      "\\centering\n",
      "\\includegraphics[scale=1.0]{./figure_S7}\n",
      "\\caption[TITLE]{\\textbf{TITLE} CONTENT}\n",
      "\\label{fig:ch2:figS7}\n",
      "\\end{figure}\n",
      "\n",
      "\n",
      "\\begin{figure}[h]\n",
      "\\centering\n",
      "\\includegraphics[scale=1.0]{./figure_S8}\n",
      "\\caption[TITLE]{\\textbf{TITLE} CONTENT}\n",
      "\\label{fig:ch2:figS8}\n",
      "\\end{figure}\n",
      "\n",
      "\n",
      "\\begin{figure}[h]\n",
      "\\centering\n",
      "\\includegraphics[scale=1.0]{./figure_S9}\n",
      "\\caption[TITLE]{\\textbf{TITLE} CONTENT}\n",
      "\\label{fig:ch2:figS9}\n",
      "\\end{figure}\n",
      "\n",
      "\n",
      "\\begin{figure}[h]\n",
      "\\centering\n",
      "\\includegraphics[scale=1.0]{./figure_S10}\n",
      "\\caption[TITLE]{\\textbf{TITLE} CONTENT}\n",
      "\\label{fig:ch2:figS10}\n",
      "\\end{figure}\n"
     ]
    }
   ],
   "source": [
    "for i in range(10):\n",
    "\n",
    "    x = '\\\\begin{figure}[h]\\n'\n",
    "    x += '\\centering\\n'\n",
    "    x += '\\includegraphics[scale=1.0]{{./figure_S{:d}}}\\n'.format(i+1) \n",
    "    x += r'\\caption[TITLE]{\\textbf{TITLE} CONTENT}'\n",
    "    x += '\\n\\label{{fig:ch2:figS{:d}}}\\n'.format(i+1)\n",
    "    x += '\\end{figure}'\n",
    "    \n",
    "    print('\\n')\n",
    "    \n",
    "    print(x)"
   ]
  },
  {
   "cell_type": "code",
   "execution_count": 6,
   "metadata": {},
   "outputs": [
    {
     "name": "stdout",
     "output_type": "stream",
     "text": [
      "\\begin{figure}[h]\n",
      "\\centering\n",
      "\\includegraphics[scale=1.0]{./PATH}\n",
      "\\caption[TITLE]{\\textbf{TITLE} CONTENT}\n",
      "\\label{fig:ch2:fig1}\n",
      "\\end{figure}\n"
     ]
    }
   ],
   "source": [
    "print(x)"
   ]
  },
  {
   "cell_type": "code",
   "execution_count": null,
   "metadata": {},
   "outputs": [],
   "source": []
  }
 ],
 "metadata": {
  "kernelspec": {
   "display_name": "ratio",
   "language": "python",
   "name": "ratio"
  },
  "language_info": {
   "codemirror_mode": {
    "name": "ipython",
    "version": 3
   },
   "file_extension": ".py",
   "mimetype": "text/x-python",
   "name": "python",
   "nbconvert_exporter": "python",
   "pygments_lexer": "ipython3",
   "version": "3.6.4"
  }
 },
 "nbformat": 4,
 "nbformat_minor": 2
}
