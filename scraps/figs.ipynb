{
 "cells": [
  {
   "cell_type": "code",
   "execution_count": 25,
   "metadata": {},
   "outputs": [],
   "source": [
    "captions_path = 'metabolism/figs/captions/'\n",
    "\n",
    "import sys\n",
    "if captions_path not in sys.path:\n",
    "    sys.path.insert(0, captions_path)\n",
    "    \n",
    "from captions import C"
   ]
  },
  {
   "cell_type": "code",
   "execution_count": 26,
   "metadata": {},
   "outputs": [],
   "source": [
    "def find_references(body):\n",
    "    for kw in ('figure', 'fig.', 'figs.'):\n",
    "        if kw in body.lower():\n",
    "            return True\n",
    "    return False"
   ]
  },
  {
   "cell_type": "code",
   "execution_count": 50,
   "metadata": {},
   "outputs": [],
   "source": [
    "def template(name, pos='h!', chapter='metabolism', \n",
    "             filename_prefix='figure_', label_prefix='fig'):\n",
    "    \n",
    "    title = C[name]['title']\n",
    "    body = C[name]['body']\n",
    "    \n",
    "    x = '\\\\begin{{figure}}[{:s}]'.format(pos)\n",
    "    x += '\\n\\label{{fig:{:s}:{:s}{:s}}}\\n'.format(chapter, label_prefix, name)\n",
    "    x += '\\centering\\n'\n",
    "    x += '\\includegraphics[scale=1.0]{{./{:s}{:s}}}\\n'.format(filename_prefix, name) \n",
    "    x += '\\caption[{:s}]{{\\\\textbf{{{:s}}} {:s}}}\\n'.format(title, title, body)\n",
    "    x += '\\end{figure}'\n",
    "    \n",
    "    return x\n",
    "    "
   ]
  },
  {
   "cell_type": "code",
   "execution_count": 28,
   "metadata": {},
   "outputs": [],
   "source": [
    "# define figure IDs\n",
    "num_main = 7\n",
    "num_supplementary = 4\n",
    "fig_ids = ['{:d}'.format(i+1) for i in range(num_main)] + ['S{:d}'.format(i+1) for i in range(num_supplementary)]"
   ]
  },
  {
   "cell_type": "code",
   "execution_count": 32,
   "metadata": {},
   "outputs": [
    {
     "name": "stdout",
     "output_type": "stream",
     "text": [
      "S2\n",
      "S4\n"
     ]
    }
   ],
   "source": [
    "# find figures that explicitly reference other figures\n",
    "for fig_id in fig_ids:\n",
    "    title = C[fig_id]['title']\n",
    "    body = C[fig_id]['body']\n",
    "    found = replace_reference(body.lower())\n",
    "    if found:\n",
    "        print(fig_id)"
   ]
  },
  {
   "cell_type": "code",
   "execution_count": 57,
   "metadata": {
    "scrolled": true
   },
   "outputs": [
    {
     "name": "stdout",
     "output_type": "stream",
     "text": [
      "\\begin{figure}[h!]\n",
      "\\label{fig:metabolism:fig1}\n",
      "\\centering\n",
      "\\includegraphics[scale=1.0]{./figure_1}\n",
      "\\caption[Eye developmental defects are rescued by slower energy metabolism.]{\\textbf{Eye developmental defects are rescued by slower energy metabolism.} (A) Strategy to ablate IPCs (red) in the young fly brain. Gal4 expressed under control of the promoter for the \\textit{Insulin-Like Peptide 2} (\\textit{ILP2}) gene drives production of the pro-apoptotic protein Reaper (Rpr) specifically in IPCs of the brain. (B) The number of days after egg laying (AEL) at which the first individual in either wildtype or $ILP2>Rpr$ populations eclosed (hatched from pupa into adult) is shown, as is the time at which the last individual in each population eclosed. Population sizes for wildtype and $ILP2>Rpr$ were 126 and 185, respectively. (C) Adult body size is affected by IPC ablation. Two females that were raised at the same time and temperature. The left $y w$ animal has normal metabolism, whereas the right animal has slowed metabolism due to ablation of its IPCs. (D) Genetically mosaic individuals with a $miR-7^+$ body and a $miR-7$ mutant eye. Left individual with mispatterned eye has its IPCs intact while the right individual with a normally patterned eye has had its IPCs ablated by $ILP2>Rpr$. (E) Eye patterning is more normal if mosaic individuals slowly metabolize due to IPC ablation. Sample population sizes were between 264 and 467 individuals. P values from Chi-square test with Yates\\' correction. (F) Eye cells stained for specific protein markers such that R7 cells (white) can be distinguished from other R cells (purple) and bristle cells (green). Each ring-like cluster of R cells is an ommatidium. Null mutation of \\textit{sev} results in no R7 cells (right). (G) Slow metabolism due to IPC ablation increases the fraction of ommatidia that contain an R7 cell in \\textit{sev} mutants. Each data point represents one eye sample; between 481 and 837 ommatidia were scored for R7 cells within each eye sample. P value is from a one-way ANOVA with Bonferroni correction.}\n",
      "\\end{figure}\n",
      "\n",
      "\n",
      "\\begin{figure}[h!]\n",
      "\\label{fig:metabolism:fig2}\n",
      "\\centering\n",
      "\\includegraphics[scale=1.0]{./figure_2}\n",
      "\\caption[Sensory bristle developmental defects are rescued by slower energy metabolism.]{\\textbf{Sensory bristle developmental defects are rescued by slower energy metabolism.} (A) Number of scutellar bristles is frequently greater than four in a \\textit{mir-9a} mutant whereas it is almost invariably four in wildtype. (B) Distribution of scutellar bristle numbers in wildtype and $miR-9a$ mutant populations. Population sizes for wildtype and $miR-9a$ were 301 and 222, respectively. The cumulative frequency distributions between wildtype and mutant were significantly different ($p<0.0001$, KS test). (C) IPC ablation increases the proportion of $miR-9a$ mutants and \\textit{hairy} mutants that have the wildtype number of scutellar bristles. ****, $p<0.0001$; n.s., $p>0.05$ (D) Under normal metabolic conditions, $wg^{Sp-1}$ displays an increased number of sternopleural bristles. IPC ablation dramatically increases the number of mutant individuals with the wildtype number of three sternopleural bristles. Shown in each panel is the number of individuals with bristle number of three versus the total number of individuals scored. IPC ablation significant suppresses the $wg^{Sp-1}$ mutant phenotype ($p<0.0001$, Fishers exact test).}\n",
      "\\end{figure}\n",
      "\n",
      "\n",
      "\\begin{figure}[h!]\n",
      "\\label{fig:metabolism:fig3}\n",
      "\\centering\n",
      "\\includegraphics[scale=1.0]{./figure_3}\n",
      "\\caption[The microRNA family is dispensable when energy metabolism is slowed.]{\\textbf{The microRNA family is dispensable when energy metabolism is slowed.} (A) The pupal viability of various \\textit{dcr-1} nonsense mutants is fully rescued when IPCs are ablated in the mutants. (B) Adult viability of various \\textit{ago1} missense and nonsense mutants is rescued when IPCs are ablated in the mutants. (C) Representative \\textit{ago1} adults with normal or slowed metabolism. (D) Genetically mosaic individuals with $ago1^+$ bodies and $ago1^{W894X}$ mutant eyes. Left, representative individual with normal metabolism has almost no eye tissue (24/24 animals had this phenotype). Right, representative individual with slowed metabolism has rescued eye tissue. Of 70 such animals analyzed, 46 had this phenotype, 20 had normal eyes, and 4 had eyes that resembled the left animal. This is a statistically significant difference ($p<0.0001$; Chi square with Yates\\' correction). Error bars, s.d. ****, $p<0.0001$; **, $p<0.01$; *, $p<0.05$; n.s., $p>0.05$}\n",
      "\\end{figure}\n",
      "\n",
      "\n",
      "\\begin{figure}[h!]\n",
      "\\label{fig:metabolism:fig4}\n",
      "\\centering\n",
      "\\includegraphics[scale=1.0]{./figure_4}\n",
      "\\caption[Modeling metabolism and gene regulation during cell fate determination.]{\\textbf{Modeling metabolism and gene regulation during cell fate determination.} (A) A program of gene expression occurs as a single cell passes through a series of developmental states. The model focuses on transient expression of a single gene within a cascade of gene expression. A state change is defined as the induction of gene expression by upstream gene products (input) and the action of the gene product (output). (B) Schematic representation of the response to a transient input, which can be either an extracellular or intracellular signal. Gene expression output is subject to layers of negative regulation acting at the gene, transcript, and protein levels. (C) Control representation of a single feedback loop as depicted in B. Boxes contain transfer functions, open circles indicate summation points, and closed circles indicate exclusive switches for each repressor. (D) Protein expression may be subject to layers multiple repressors acting in parallel. (E) Simulation of protein levels in response to a transient input signal. One condition has two post-translational repressors in place (full repression) and the other condition has one repressor in place (partial repression). Shaded regions correspond to the 98\\% confidence band of simulated protein trajectories. We define the commitment time as the time needed for 99\\% of simulations with full repression to cross a predefined threshold. With partial repression, the protein levels take longer to decay, so fewer simulations cross the threshold within the defined commitment time. We interpret each failure of a simulated protein level to decay below the threshold in time as a developmental error. (F) Error frequency is greater with partial repression. (G) The model suggests that errors will occur more frequently under partial repression regardless of how repressors act on gene expression (left panel). However, partial repression imparts fewer developmental errors when ATP-dependent parameter values are reduced by 50\\% (right panel).}\n",
      "\\end{figure}\n",
      "\n",
      "\n",
      "\\begin{figure}[h!]\n",
      "\\label{fig:metabolism:fig5}\n",
      "\\centering\n",
      "\\includegraphics[scale=1.0]{./figure_5}\n",
      "\\caption[Expression dynamics are resistant to repressor loss when energy metabolism is reduced.]{\\textbf{Expression dynamics are resistant to repressor loss when energy metabolism is reduced.} (A,B) Simulated expression of target protein output when it is under control of an auxiliary post-transcriptional repressor (green) or not under control of the repressor (orange). All simulations (green and orange) are also under control of a constitutive repressor. Shown are ten randomly-chosen samples from a total population of 5000 trajectories for each condition. (A) Simulations performed with normal ATP-dependent reaction rates. (B) Simulations performed following a 50\\% reduction in the rate of ATP-dependent reactions. (C,D) Yan-YFP protein dynamics in eye disc progenitor cells. Time 0 marks the time at which Yan-YFP induction occurs. Solid lines are moving line averages. Shaded regions denote 95\\% confidence intervals. Each line average is calculated from a composite of measurements of between 4,379 and 6,716 cells. (C) Yan-YFP dynamics for wildtype $Yan-YFP$ and mutant $Yan^{\\Delta miR-7}-YFP$ genes under normal metabolic conditions. (D) Yan-YFP dynamics for wildtype and mutant genes when the IPCs have been ablated.}\n",
      "\\end{figure}\n",
      "\n",
      "\n",
      "\\begin{figure}[h!]\n",
      "\\label{fig:metabolism:fig6}\n",
      "\\centering\n",
      "\\includegraphics[scale=1.0]{./figure_6}\n",
      "\\caption[Reduced energy metabolism cannot compensate for complete loss of repression.]{\\textbf{Reduced energy metabolism cannot compensate for complete loss of repression.} (A,B) Simulated expression of protein output both with (purple) and without (grey) any repression of the target gene. Shown are ten randomly chosen samples from a total population of 5000 trajectories for each condition. Error frequencies exceed 99\\% irrespective of metabolic conditions. (A) Simulations performed under normal conditions. (B) Simulations performed following a 50\\% reduction in the rate of ATP-dependent reactions. (C) Loss of eye tissue in a $yan^{ACT}$ mutant is not suppressed by slower metabolism. Representative individuals were taken from $N>100$ individuals for each condition. (D) Eye patterning in a $yan^{WT}$ control is not affected by slower metabolism. Representative individuals were taken from $N>100$ individuals for each condition.}\n",
      "\\end{figure}\n",
      "\n",
      "\n",
      "\\begin{figure}[h!]\n",
      "\\label{fig:metabolism:fig7}\n",
      "\\centering\n",
      "\\includegraphics[scale=1.0]{./figure_7}\n",
      "\\caption[Reducing ribosome number rescues loss of repressors on sensory organ development and expression dynamics.]{\\textbf{Reducing ribosome number rescues loss of repressors on sensory organ development and expression dynamics.} (A) The model predicts increased frequency of error with partial repression regardless of how auxiliary repressors act on gene expression (left panel). However, partial repression induces fewer errors when protein synthesis-dependent parameter values are reduced by 50\\% (right panel). (B) Loss of $miR-7$ does not cause adult eye mispatterning when \\textit{RpS3} is heterozygous mutant. (C) \\textit{sev} mutants have more R7-positive ommatidia when either \\textit{RpS3} or \\textit{RpS13} are heterozygous mutant. Each datapoint represents one eye sample, and between 481 and 837 ommatidia were scored for R7 cells within each eye sample. (D) $wg^{Sp1}$ heterozygous individuals that are also heterozygous mutant for different \\textit{RpS} genes have sternopleural bristle numbers more similar to wildtype. (E) Developmental accuracy is recovered for both $miR-9a$ and \\textit{hairy} mutants that are also heterozygous mutant for \\textit{RpS13}. For all panels in B-E, error bars, s.d. ****, $p<0.0001$; ***, $p<0.001$; n.s., $p>0.05$. (F) Frequency distribution of sfGFP-Sens protein level in cells bordering the wing margin of white prepupal wing discs. Shown are distributions of cells expressing either wildtype \\textit{sfGFP-sens} or \\textit{sfGFP-sens} in which miR-9a binding sites have been mutated. Each group represents \\textgreater{} 15,000 cells. (G) The median fold-change in \\textit{sfGFP-sens} expression caused by miR-9a binding site mutations. Measurements were taken in \\textit{RpS13} wildtype and heterozygous mutant backgrounds. Shown are 99\\% confidence intervals for the estimates. (H) The shift in the fluorescence distribution of sfGFP-Sens-positive cells caused by miR-9a binding site mutations, as determined from a Mann-Whitney-Wilcoxon test. The upward shift is smaller in an \\textit{RpS13} heterozygous mutant background. Shown are 95\\% confidence intervals for the shift.}\n",
      "\\end{figure}\n",
      "\n",
      "\n",
      "\\begin{figure}[h!]\n",
      "\\label{fig:metabolism:figS1}\n",
      "\\centering\n",
      "\\includegraphics[scale=1.0]{./figure_S1}\n",
      "\\caption[Error frequencies are broadly increased when an auxiliary repressor is lost.]{\\textbf{Error frequencies are broadly increased when an auxiliary repressor is lost.} (A) Block diagram depiction of the mathematical model. Boxes contain transfer functions relating upstream and downstream variables, open circles indicate summation points. Transfer functions are expressed in the Laplace frequency domain. (B) Simulations were performed with 2500 independent parameter sets quasi-randomly sampled from the nine-dimensional hyperspace defined by one order of magnitude variation in each of the model parameters. Error frequencies are projected onto two dimensional planes and then linearly interpolated onto (100 px)\\textsuperscript{2} grids. (C) Error frequencies for parameter sets from (B) were re-calculated across a range of different success thresholds. Shown are error frequencies incurred by the loss of one repressor. Thresholds are defined by the 99\\textsuperscript{th} percentile of protein levels simulated with all repressors, and are evaluated at the time when the mean protein level with all repressors reaches the indicated fraction of its maximum value. Each line represents one of the parameter sets from (B). Color scale reflects maximum difference in error frequency across the range of thresholds tested.}\n",
      "\\end{figure}\n",
      "\n",
      "\n",
      "\\begin{figure}[h!]\n",
      "\\label{fig:metabolism:figS2}\n",
      "\\centering\n",
      "\\includegraphics[scale=1.0]{./figure_S2}\n",
      "\\caption[Reduced energy metabolism diminishes the importance of auxiliary repressors over a wide range of model conditions.]{\\textbf{Reduced energy metabolism diminishes the importance of auxiliary repressors over a wide range of model conditions.} (A-G) For each panel, 2500 simulations were performed with parameter sets quasi-randomly sampled from the nine-dimensional hyperspace defined by one order of magnitude variation in each of the respective model parameters, as done for Fig. S1B. For each parameter set, error frequencies pertain to 50\\% loss of repression mimicking partial repressor loss. (A) One-dimensional representation of the error frequencies for all parameter sets under conditions of normal or diminished energy metabolism. (B) Change in error frequencies with diminished metabolism relative to normal metabolic conditions for all parameter sets. Blue-Red color scale corresponds to the difference in error frequency between low-metabolic and normal conditions, e.g. blue indicates error suppression by reduced energy metabolism. (C) Results from (B) re-calculated across a range of different success thresholds. Each line corresponds to a single parameter set. Color scale reflects maximum change in error frequency across the threshold range. Black dashed line corresponds to unchanged error frequency by reduced energy metabolism. The vast majority of simulations exhibit some reduction in error frequency across all thresholds. (D-G) Systematic modification of model conditions showing the change in error frequencies with diminished metabolism relative to normal metabolic conditions for all parameter sets. Blue-Red color scale corresponds to the difference in error frequency between low-metabolic and normal conditions, e.g. blue indicates error suppression by reduced energy metabolism. (D) Simulations where a nonzero basal stimulus is applied. (E) Simulations where input duration is increased four-fold by a reduction in energy metabolism. (F) Simulations when an upper bound is placed on the number of sites firing transcription. (G) Simulations when cooperative transcription kinetics are considered. (H) Partial repression imparts few developmental errors when RNA and protein synthesis rate parameter values are reduced by 50\\%. Construction is otherwise analogous to the right panel of Figure 4G.}\n",
      "\\end{figure}\n",
      "\n",
      "\n",
      "\\begin{figure}[h!]\n",
      "\\label{fig:metabolism:figS3}\n",
      "\\centering\n",
      "\\includegraphics[scale=1.0]{./figure_S3}\n",
      "\\caption[Reductions in energy metabolism limit the extent to which protein expression dynamics are affected by loss of a repressor.]{\\textbf{Reductions in energy metabolism limit the extent to which protein expression dynamics are affected by loss of a repressor.} (A-B) Graphical depiction of the method used to quantify the impact of repressor loss on protein expression dynamics. (A) Confidence bands span the 1\\textsuperscript{st} to 99\\textsuperscript{th} quantiles of protein levels simulated under full repression (grey) and under partial repression (purple), where a repressor is lost. The dashed purple line denotes the lower bound of the purple confidence band. The symbol \\tau denotes the commitment time as defined previously. (B) Loss of a repressor causes protein overexpression $E(t)$, which is calculated as the fraction of simulations that exceed the confidence band observed under full repression (grey) at a given time point. Orange-brown color scale reflects the value of $E(t)$ for each time point in the time course. Percent overexpression is calculated as a percent of simulations that exceed the confidence band integrated over the entire time course. A maximum of 100\\% overexpression would occur when all simulations exceed the confidence band at all timepoints. (C) Percent overexpression caused by loss of a repressor for model simulations performed with 2500 independent parameter sets. Color scale reflects the strength of overexpression. Overexpression is large for most parameter sets. (D) Percent overexpression caused by loss of a repressor was calculated for simulations implementing normal energy metabolism and reduced energy metabolism. The difference in percent overexpression between the two metabolic conditions is shown for model simulations performed with 2500 independent parameter sets. Color scale reflects the difference. The majority of simulations are blue, indicating that expression dynamics are less affected by repressor loss when energy metabolism is low.}\n",
      "\\end{figure}\n",
      "\n",
      "\n",
      "\\begin{figure}[h!]\n",
      "\\label{fig:metabolism:figS4}\n",
      "\\centering\n",
      "\\includegraphics[scale=1.0]{./figure_S4}\n",
      "\\caption[Reduced protein synthesis capacity diminishes the importance of auxiliary repression over a wide range of model conditions.]{\\textbf{Reduced protein synthesis capacity diminishes the importance of auxiliary repression over a wide range of model conditions.} Each panel depicts a parameter sweep of the nine-dimensional hyperspace defined by one order of magnitude variation in each of the respective model parameters. For each parameter set, error frequency and percent overexpression were calculated as described earlier in Figs. S2 and S3. They pertain to 50\\% reduced repression mimicking auxiliary repressor loss. Error frequency and percent overexpression were calculated independently for conditions of normal and reduced protein synthesis. The difference in error frequency or overexpression between metabolic conditions are shown color-coded, e.g. blue indicates error suppression by reduced protein synthesis. (A-C) Simulations in which the duration of the stimulus input is constant. Shown are the (A) differential error frequencies and (B) differential changes in expression dynamics relative to normal protein synthesis conditions. (C) Differential error frequencies for varying definitions of the success threshold. Each line represents one parameter set, colored by the corresponding range of differential error frequencies. (D) Simulations where a nonzero basal stimulus is applied. (E) Simulations where input duration is increased two-fold by a reduction in protein synthesis capacity. (F) Simulations when an upper bound is placed on the number of sites firing transcription. (G) Simulations when cooperative transcription kinetics are considered.}\n",
      "\\end{figure}\n",
      "\n",
      "\n"
     ]
    }
   ],
   "source": [
    "# print formatted latex embedding for each captions\n",
    "for fig_id in fig_ids:    \n",
    "    latex_str = template(fig_id)\n",
    "    print(latex_str)\n",
    "    print('\\n')\n",
    "    "
   ]
  },
  {
   "cell_type": "code",
   "execution_count": 44,
   "metadata": {},
   "outputs": [
    {
     "data": {
      "text/plain": [
       "'\\\\\\\\begin{figure}[h!]\\\\n\\\\n\\\\label{fig:metabolism:fig1}\\\\n\\\\centering\\\\n\\\\includegraphics[scale=1.0]{./figure_1}\\\\n\\\\caption[Eye developmental defects are rescued by slower energy metabolism.]{\\\\textbf{:s} Eye developmental defects are rescued by slower energy metabolism.}\\\\end{figure}'"
      ]
     },
     "execution_count": 44,
     "metadata": {},
     "output_type": "execute_result"
    }
   ],
   "source": [
    "latex_str"
   ]
  },
  {
   "cell_type": "code",
   "execution_count": null,
   "metadata": {},
   "outputs": [],
   "source": []
  },
  {
   "cell_type": "code",
   "execution_count": null,
   "metadata": {},
   "outputs": [],
   "source": [
    "\\begin{figure}[p]\n",
    "\\centering\n",
    "\\includegraphics[width=1.0\\columnwidth]{./FIGURE}\n",
    "\\caption[TITLE]{ (Continued on next page.)}\n",
    "\\label{fig:metabolism:FIGURE}\n",
    "\\end{figure}\n",
    "\\begin{figure}[h]\n",
    "  \\contcaption{\\textbf{TITLE} CAPTION}\n",
    "\\end{figure}\n",
    "\n",
    "\n",
    "\\begin{figure}[p]\n",
    "\\centering\n",
    "\\includegraphics[width=1.0\\columnwidth]{./FIGURE}\n",
    "\\caption[TITLE]{ (Continued on next page.)}\n",
    "\\label{fig:metabolism:FIGURE}\n",
    "\\end{figure}\n",
    "\\begin{figure}[h]\n",
    "  \\contcaption{\\textbf{TITLE} CAPTION}\n",
    "\\end{figure}\n"
   ]
  },
  {
   "cell_type": "code",
   "execution_count": null,
   "metadata": {},
   "outputs": [],
   "source": []
  },
  {
   "cell_type": "code",
   "execution_count": null,
   "metadata": {},
   "outputs": [],
   "source": []
  },
  {
   "cell_type": "code",
   "execution_count": 37,
   "metadata": {},
   "outputs": [
    {
     "name": "stdout",
     "output_type": "stream",
     "text": [
      "\n",
      "\n",
      "\\begin{figure}[h]\n",
      "\\centering\n",
      "\\includegraphics[scale=1.0]{./figure_1}\n",
      "\\caption[TITLE]{\\textbf{TITLE} CONTENT}\n",
      "\\label{fig:ch2:fig1}\n",
      "\\end{figure}\n",
      "\n",
      "\n",
      "\\begin{figure}[h]\n",
      "\\centering\n",
      "\\includegraphics[scale=1.0]{./figure_2}\n",
      "\\caption[TITLE]{\\textbf{TITLE} CONTENT}\n",
      "\\label{fig:ch2:fig2}\n",
      "\\end{figure}\n",
      "\n",
      "\n",
      "\\begin{figure}[h]\n",
      "\\centering\n",
      "\\includegraphics[scale=1.0]{./figure_3}\n",
      "\\caption[TITLE]{\\textbf{TITLE} CONTENT}\n",
      "\\label{fig:ch2:fig3}\n",
      "\\end{figure}\n",
      "\n",
      "\n",
      "\\begin{figure}[h]\n",
      "\\centering\n",
      "\\includegraphics[scale=1.0]{./figure_4}\n",
      "\\caption[TITLE]{\\textbf{TITLE} CONTENT}\n",
      "\\label{fig:ch2:fig4}\n",
      "\\end{figure}\n",
      "\n",
      "\n",
      "\\begin{figure}[h]\n",
      "\\centering\n",
      "\\includegraphics[scale=1.0]{./figure_5}\n",
      "\\caption[TITLE]{\\textbf{TITLE} CONTENT}\n",
      "\\label{fig:ch2:fig5}\n",
      "\\end{figure}\n",
      "\n",
      "\n",
      "\\begin{figure}[h]\n",
      "\\centering\n",
      "\\includegraphics[scale=1.0]{./figure_6}\n",
      "\\caption[TITLE]{\\textbf{TITLE} CONTENT}\n",
      "\\label{fig:ch2:fig6}\n",
      "\\end{figure}\n",
      "\n",
      "\n",
      "\\begin{figure}[h]\n",
      "\\centering\n",
      "\\includegraphics[scale=1.0]{./figure_7}\n",
      "\\caption[TITLE]{\\textbf{TITLE} CONTENT}\n",
      "\\label{fig:ch2:fig7}\n",
      "\\end{figure}\n"
     ]
    }
   ],
   "source": [
    "for i in range(7):\n",
    "\n",
    "    x = '\\\\begin{figure}[h]\\n'\n",
    "    x += '\\centering\\n'\n",
    "    x += '\\includegraphics[scale=1.0]{{./figure_{:d}}}\\n'.format(i+1) \n",
    "    x += r'\\caption[TITLE]{\\textbf{TITLE} CONTENT}'\n",
    "    x += '\\n\\label{{fig:ch2:fig{:d}}}\\n'.format(i+1)\n",
    "    x += '\\end{figure}'\n",
    "    \n",
    "    print('\\n')\n",
    "    \n",
    "    print(x)"
   ]
  },
  {
   "cell_type": "code",
   "execution_count": 39,
   "metadata": {},
   "outputs": [
    {
     "name": "stdout",
     "output_type": "stream",
     "text": [
      "\n",
      "\n",
      "\\begin{figure}[h]\n",
      "\\centering\n",
      "\\includegraphics[scale=1.0]{./figure_S1}\n",
      "\\caption[TITLE]{\\textbf{TITLE} CONTENT}\n",
      "\\label{fig:ch2:figS1}\n",
      "\\end{figure}\n",
      "\n",
      "\n",
      "\\begin{figure}[h]\n",
      "\\centering\n",
      "\\includegraphics[scale=1.0]{./figure_S2}\n",
      "\\caption[TITLE]{\\textbf{TITLE} CONTENT}\n",
      "\\label{fig:ch2:figS2}\n",
      "\\end{figure}\n",
      "\n",
      "\n",
      "\\begin{figure}[h]\n",
      "\\centering\n",
      "\\includegraphics[scale=1.0]{./figure_S3}\n",
      "\\caption[TITLE]{\\textbf{TITLE} CONTENT}\n",
      "\\label{fig:ch2:figS3}\n",
      "\\end{figure}\n",
      "\n",
      "\n",
      "\\begin{figure}[h]\n",
      "\\centering\n",
      "\\includegraphics[scale=1.0]{./figure_S4}\n",
      "\\caption[TITLE]{\\textbf{TITLE} CONTENT}\n",
      "\\label{fig:ch2:figS4}\n",
      "\\end{figure}\n",
      "\n",
      "\n",
      "\\begin{figure}[h]\n",
      "\\centering\n",
      "\\includegraphics[scale=1.0]{./figure_S5}\n",
      "\\caption[TITLE]{\\textbf{TITLE} CONTENT}\n",
      "\\label{fig:ch2:figS5}\n",
      "\\end{figure}\n",
      "\n",
      "\n",
      "\\begin{figure}[h]\n",
      "\\centering\n",
      "\\includegraphics[scale=1.0]{./figure_S6}\n",
      "\\caption[TITLE]{\\textbf{TITLE} CONTENT}\n",
      "\\label{fig:ch2:figS6}\n",
      "\\end{figure}\n",
      "\n",
      "\n",
      "\\begin{figure}[h]\n",
      "\\centering\n",
      "\\includegraphics[scale=1.0]{./figure_S7}\n",
      "\\caption[TITLE]{\\textbf{TITLE} CONTENT}\n",
      "\\label{fig:ch2:figS7}\n",
      "\\end{figure}\n",
      "\n",
      "\n",
      "\\begin{figure}[h]\n",
      "\\centering\n",
      "\\includegraphics[scale=1.0]{./figure_S8}\n",
      "\\caption[TITLE]{\\textbf{TITLE} CONTENT}\n",
      "\\label{fig:ch2:figS8}\n",
      "\\end{figure}\n",
      "\n",
      "\n",
      "\\begin{figure}[h]\n",
      "\\centering\n",
      "\\includegraphics[scale=1.0]{./figure_S9}\n",
      "\\caption[TITLE]{\\textbf{TITLE} CONTENT}\n",
      "\\label{fig:ch2:figS9}\n",
      "\\end{figure}\n",
      "\n",
      "\n",
      "\\begin{figure}[h]\n",
      "\\centering\n",
      "\\includegraphics[scale=1.0]{./figure_S10}\n",
      "\\caption[TITLE]{\\textbf{TITLE} CONTENT}\n",
      "\\label{fig:ch2:figS10}\n",
      "\\end{figure}\n"
     ]
    }
   ],
   "source": [
    "num_figs = 2\n",
    "positioning = 'h!'\n",
    "chapter = 'metabolism'\n",
    "prefix = 'figure_'\n",
    "label_prefix = 'fig'\n",
    "\n",
    "for i in range(num_figs):\n",
    "\n",
    "    x = '\\\\begin{figure}[{:s}]\\n'.format(positioning)\n",
    "    x += '\\n\\label{{fig:{:s}:{:s}{:d}}}\\n'.format(chapter, label_prefix, i+1)\n",
    "    x += '\\centering\\n'\n",
    "    x += '\\includegraphics[scale=1.0]{{./{:s}{:d}}}\\n'.format(prefix, i+1) \n",
    "    x += r'\\caption[TITLE]{\\textbf{TITLE} CONTENT}'\n",
    "    \n",
    "    x += '\\end{figure}'\n",
    "    \n",
    "    print('\\n')\n",
    "    \n",
    "    print(x)"
   ]
  },
  {
   "cell_type": "code",
   "execution_count": 6,
   "metadata": {},
   "outputs": [
    {
     "name": "stdout",
     "output_type": "stream",
     "text": [
      "\\begin{figure}[h]\n",
      "\\centering\n",
      "\\includegraphics[scale=1.0]{./PATH}\n",
      "\\caption[TITLE]{\\textbf{TITLE} CONTENT}\n",
      "\\label{fig:ch2:fig1}\n",
      "\\end{figure}\n"
     ]
    }
   ],
   "source": [
    "print(x)"
   ]
  },
  {
   "cell_type": "code",
   "execution_count": null,
   "metadata": {},
   "outputs": [],
   "source": []
  }
 ],
 "metadata": {
  "kernelspec": {
   "display_name": "ratio",
   "language": "python",
   "name": "ratio"
  },
  "language_info": {
   "codemirror_mode": {
    "name": "ipython",
    "version": 3
   },
   "file_extension": ".py",
   "mimetype": "text/x-python",
   "name": "python",
   "nbconvert_exporter": "python",
   "pygments_lexer": "ipython3",
   "version": "3.6.4"
  }
 },
 "nbformat": 4,
 "nbformat_minor": 2
}
